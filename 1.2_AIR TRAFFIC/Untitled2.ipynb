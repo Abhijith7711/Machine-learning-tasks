{
 "cells": [
  {
   "cell_type": "code",
   "execution_count": 1,
   "id": "9e0fcc8a-dbff-4545-ad8e-e45035170a76",
   "metadata": {},
   "outputs": [],
   "source": [
    "import numpy as np"
   ]
  },
  {
   "cell_type": "code",
   "execution_count": 2,
   "id": "fa02af0b-3f9a-47df-93c6-59a09c0e2792",
   "metadata": {},
   "outputs": [
    {
     "name": "stderr",
     "output_type": "stream",
     "text": [
      "C:\\Users\\HP\\AppData\\Local\\Temp\\ipykernel_20668\\4080736814.py:1: DeprecationWarning: \n",
      "Pyarrow will become a required dependency of pandas in the next major release of pandas (pandas 3.0),\n",
      "(to allow more performant data types, such as the Arrow string type, and better interoperability with other libraries)\n",
      "but was not found to be installed on your system.\n",
      "If this would cause problems for you,\n",
      "please provide us feedback at https://github.com/pandas-dev/pandas/issues/54466\n",
      "        \n",
      "  import pandas as pd\n"
     ]
    }
   ],
   "source": [
    "import pandas as pd"
   ]
  },
  {
   "cell_type": "code",
   "execution_count": 3,
   "id": "e652a6c6-7667-458e-b386-675a7eb7e0f9",
   "metadata": {},
   "outputs": [],
   "source": [
    "df = pd.read_csv('air traffic.csv')"
   ]
  },
  {
   "cell_type": "code",
   "execution_count": 4,
   "id": "94848ad0-7263-4859-bfd4-507c8464dfc9",
   "metadata": {},
   "outputs": [
    {
     "name": "stdout",
     "output_type": "stream",
     "text": [
      "     Year  Month     Dom_Pax     Int_Pax         Pax  Dom_Flt Int_Flt  \\\n",
      "0    2003      1  43,032,450   4,905,830  47,938,280  785,160  57,667   \n",
      "1    2003      2  41,166,780   4,245,366  45,412,146  690,351  51,259   \n",
      "2    2003      3  49,992,700   5,008,613  55,001,313  797,194  58,926   \n",
      "3    2003      4  47,033,260   4,345,444  51,378,704  766,260  55,005   \n",
      "4    2003      5  49,152,352   4,610,834  53,763,186  789,397  55,265   \n",
      "..    ...    ...         ...         ...         ...      ...     ...   \n",
      "244  2023      5  71,423,653  10,358,666  81,782,319  667,331  71,924   \n",
      "245  2023      6  72,482,621  11,544,505  84,027,126  661,293  75,279   \n",
      "246  2023      7  75,378,157  12,432,615  87,810,772  684,939  79,738   \n",
      "247  2023      8  71,477,988  11,572,149  83,050,137  691,482  77,137   \n",
      "248  2023      9  66,858,490   9,392,985  76,251,475  649,308  64,241   \n",
      "\n",
      "         Flt     Dom_RPM     Int_RPM          RPM     Dom_ASM     Int_ASM  \\\n",
      "0    842,827  36,211,422  12,885,980   49,097,402  56,191,300  17,968,572   \n",
      "1    741,610  34,148,439  10,715,468   44,863,907  50,088,434  15,587,880   \n",
      "2    856,120  41,774,564  12,567,068   54,341,633  57,592,901  17,753,174   \n",
      "3    821,265  39,465,980  10,370,592   49,836,572  54,639,679  15,528,761   \n",
      "4    844,662  41,001,934  11,575,026   52,576,960  55,349,897  15,629,821   \n",
      "..       ...         ...         ...          ...         ...         ...   \n",
      "244  739,255  66,743,565  26,805,432   93,548,998  77,821,407  31,950,687   \n",
      "245  736,572  68,789,127  29,883,465   98,672,591  78,058,358  33,410,671   \n",
      "246  764,677  72,267,904  31,376,000  103,643,904  81,986,010  35,326,191   \n",
      "247  768,619  67,933,484  29,938,507   97,871,992  81,997,399  34,908,793   \n",
      "248  713,549  61,777,546  26,076,318   87,853,864  75,748,336  31,231,710   \n",
      "\n",
      "             ASM  Dom_LF  Int_LF     LF  \n",
      "0     74,159,872   64.44   71.71  66.20  \n",
      "1     65,676,314   68.18   68.74  68.31  \n",
      "2     75,346,075   72.53   70.79  72.12  \n",
      "3     70,168,440   72.23   66.78  71.02  \n",
      "4     70,979,718   74.08   74.06  74.07  \n",
      "..           ...     ...     ...    ...  \n",
      "244  109,772,094   85.77   83.90  85.22  \n",
      "245  111,469,028   88.13   89.44  88.52  \n",
      "246  117,312,202   88.15   88.82  88.35  \n",
      "247  116,906,192   82.85   85.76  83.72  \n",
      "248  106,980,046   81.56   83.49  82.12  \n",
      "\n",
      "[249 rows x 17 columns]\n"
     ]
    }
   ],
   "source": [
    "print(df)"
   ]
  },
  {
   "cell_type": "markdown",
   "id": "a7c58ff4-3220-499b-a4cf-c79e97eef7a0",
   "metadata": {},
   "source": [
    "To find minimum for given data"
   ]
  },
  {
   "cell_type": "code",
   "execution_count": 5,
   "id": "82c88ae6-4cff-4bb3-a307-6bb43c1413aa",
   "metadata": {},
   "outputs": [],
   "source": [
    "min_RPM =df['RPM'].min()"
   ]
  },
  {
   "cell_type": "code",
   "execution_count": 6,
   "id": "679012c1-11be-4d2f-9052-943e25f5703a",
   "metadata": {},
   "outputs": [
    {
     "name": "stdout",
     "output_type": "stream",
     "text": [
      "101,723,592\n"
     ]
    }
   ],
   "source": [
    "print(min_RPM)"
   ]
  },
  {
   "cell_type": "markdown",
   "id": "9d8a54e6-8590-4b92-ac85-e871c2072fb6",
   "metadata": {},
   "source": [
    "To print maximum for given data"
   ]
  },
  {
   "cell_type": "code",
   "execution_count": 10,
   "id": "d386cc06-e431-46e3-b6b1-49dfd39624b5",
   "metadata": {},
   "outputs": [],
   "source": [
    "max_RPM = df['RPM'].max()"
   ]
  },
  {
   "cell_type": "code",
   "execution_count": 11,
   "id": "d8eed599-d0b8-4ee6-a9b1-ba76a09161ac",
   "metadata": {},
   "outputs": [
    {
     "name": "stdout",
     "output_type": "stream",
     "text": [
      "maximum RPM is 98,808,435\n"
     ]
    }
   ],
   "source": [
    "print(f\"maximum RPM is {max_RPM}\")"
   ]
  },
  {
   "cell_type": "markdown",
   "id": "93336114-2ec0-4a81-a941-33711c45867c",
   "metadata": {},
   "source": [
    "To find mean of given data"
   ]
  },
  {
   "cell_type": "code",
   "execution_count": null,
   "id": "f3fbdc7d-3156-4c96-99da-01e2fb11de71",
   "metadata": {},
   "outputs": [],
   "source": [
    "mean_RPM = df['RPM']."
   ]
  }
 ],
 "metadata": {
  "kernelspec": {
   "display_name": "Python 3 (ipykernel)",
   "language": "python",
   "name": "python3"
  },
  "language_info": {
   "codemirror_mode": {
    "name": "ipython",
    "version": 3
   },
   "file_extension": ".py",
   "mimetype": "text/x-python",
   "name": "python",
   "nbconvert_exporter": "python",
   "pygments_lexer": "ipython3",
   "version": "3.12.1"
  }
 },
 "nbformat": 4,
 "nbformat_minor": 5
}
