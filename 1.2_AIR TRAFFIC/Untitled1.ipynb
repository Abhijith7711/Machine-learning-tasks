{
 "cells": [
  {
   "cell_type": "code",
   "execution_count": 40,
   "id": "c70609c5-2970-4ead-b165-141a72b034b1",
   "metadata": {},
   "outputs": [],
   "source": [
    "import numpy as np"
   ]
  },
  {
   "cell_type": "code",
   "execution_count": 41,
   "id": "a3f6545c-20d6-4eca-aaa3-16f79e8c5fe7",
   "metadata": {},
   "outputs": [],
   "source": [
    "import pandas as pd"
   ]
  },
  {
   "cell_type": "code",
   "execution_count": 4,
   "id": "7c65d01c-18e8-4c02-81eb-0512605b115d",
   "metadata": {},
   "outputs": [],
   "source": [
    "df = pd.read_csv('air traffic.csv')"
   ]
  },
  {
   "cell_type": "code",
   "execution_count": 5,
   "id": "561611d8-3134-4ad4-b507-31955a6b619c",
   "metadata": {},
   "outputs": [
    {
     "name": "stdout",
     "output_type": "stream",
     "text": [
      "     Year  Month     Dom_Pax     Int_Pax         Pax  Dom_Flt Int_Flt  \\\n",
      "0    2003      1  43,032,450   4,905,830  47,938,280  785,160  57,667   \n",
      "1    2003      2  41,166,780   4,245,366  45,412,146  690,351  51,259   \n",
      "2    2003      3  49,992,700   5,008,613  55,001,313  797,194  58,926   \n",
      "3    2003      4  47,033,260   4,345,444  51,378,704  766,260  55,005   \n",
      "4    2003      5  49,152,352   4,610,834  53,763,186  789,397  55,265   \n",
      "..    ...    ...         ...         ...         ...      ...     ...   \n",
      "244  2023      5  71,423,653  10,358,666  81,782,319  667,331  71,924   \n",
      "245  2023      6  72,482,621  11,544,505  84,027,126  661,293  75,279   \n",
      "246  2023      7  75,378,157  12,432,615  87,810,772  684,939  79,738   \n",
      "247  2023      8  71,477,988  11,572,149  83,050,137  691,482  77,137   \n",
      "248  2023      9  66,858,490   9,392,985  76,251,475  649,308  64,241   \n",
      "\n",
      "         Flt     Dom_RPM     Int_RPM          RPM     Dom_ASM     Int_ASM  \\\n",
      "0    842,827  36,211,422  12,885,980   49,097,402  56,191,300  17,968,572   \n",
      "1    741,610  34,148,439  10,715,468   44,863,907  50,088,434  15,587,880   \n",
      "2    856,120  41,774,564  12,567,068   54,341,633  57,592,901  17,753,174   \n",
      "3    821,265  39,465,980  10,370,592   49,836,572  54,639,679  15,528,761   \n",
      "4    844,662  41,001,934  11,575,026   52,576,960  55,349,897  15,629,821   \n",
      "..       ...         ...         ...          ...         ...         ...   \n",
      "244  739,255  66,743,565  26,805,432   93,548,998  77,821,407  31,950,687   \n",
      "245  736,572  68,789,127  29,883,465   98,672,591  78,058,358  33,410,671   \n",
      "246  764,677  72,267,904  31,376,000  103,643,904  81,986,010  35,326,191   \n",
      "247  768,619  67,933,484  29,938,507   97,871,992  81,997,399  34,908,793   \n",
      "248  713,549  61,777,546  26,076,318   87,853,864  75,748,336  31,231,710   \n",
      "\n",
      "             ASM  Dom_LF  Int_LF     LF  \n",
      "0     74,159,872   64.44   71.71  66.20  \n",
      "1     65,676,314   68.18   68.74  68.31  \n",
      "2     75,346,075   72.53   70.79  72.12  \n",
      "3     70,168,440   72.23   66.78  71.02  \n",
      "4     70,979,718   74.08   74.06  74.07  \n",
      "..           ...     ...     ...    ...  \n",
      "244  109,772,094   85.77   83.90  85.22  \n",
      "245  111,469,028   88.13   89.44  88.52  \n",
      "246  117,312,202   88.15   88.82  88.35  \n",
      "247  116,906,192   82.85   85.76  83.72  \n",
      "248  106,980,046   81.56   83.49  82.12  \n",
      "\n",
      "[249 rows x 17 columns]\n"
     ]
    }
   ],
   "source": [
    "print(df)"
   ]
  },
  {
   "cell_type": "code",
   "execution_count": 6,
   "id": "30b4fd52-fafe-47d5-a5a9-547d8ddba4ad",
   "metadata": {},
   "outputs": [
    {
     "name": "stdout",
     "output_type": "stream",
     "text": [
      "   Year  Month     Dom_Pax    Int_Pax         Pax  Dom_Flt Int_Flt      Flt  \\\n",
      "0  2003      1  43,032,450  4,905,830  47,938,280  785,160  57,667  842,827   \n",
      "1  2003      2  41,166,780  4,245,366  45,412,146  690,351  51,259  741,610   \n",
      "2  2003      3  49,992,700  5,008,613  55,001,313  797,194  58,926  856,120   \n",
      "3  2003      4  47,033,260  4,345,444  51,378,704  766,260  55,005  821,265   \n",
      "4  2003      5  49,152,352  4,610,834  53,763,186  789,397  55,265  844,662   \n",
      "\n",
      "      Dom_RPM     Int_RPM         RPM     Dom_ASM     Int_ASM         ASM  \\\n",
      "0  36,211,422  12,885,980  49,097,402  56,191,300  17,968,572  74,159,872   \n",
      "1  34,148,439  10,715,468  44,863,907  50,088,434  15,587,880  65,676,314   \n",
      "2  41,774,564  12,567,068  54,341,633  57,592,901  17,753,174  75,346,075   \n",
      "3  39,465,980  10,370,592  49,836,572  54,639,679  15,528,761  70,168,440   \n",
      "4  41,001,934  11,575,026  52,576,960  55,349,897  15,629,821  70,979,718   \n",
      "\n",
      "   Dom_LF  Int_LF     LF  \n",
      "0   64.44   71.71  66.20  \n",
      "1   68.18   68.74  68.31  \n",
      "2   72.53   70.79  72.12  \n",
      "3   72.23   66.78  71.02  \n",
      "4   74.08   74.06  74.07  \n"
     ]
    }
   ],
   "source": [
    "print(df.head())"
   ]
  },
  {
   "cell_type": "code",
   "execution_count": 7,
   "id": "bca72c29-4907-45df-9cae-21349d4ac3af",
   "metadata": {},
   "outputs": [
    {
     "name": "stdout",
     "output_type": "stream",
     "text": [
      "     Year  Month     Dom_Pax     Int_Pax         Pax  Dom_Flt Int_Flt  \\\n",
      "244  2023      5  71,423,653  10,358,666  81,782,319  667,331  71,924   \n",
      "245  2023      6  72,482,621  11,544,505  84,027,126  661,293  75,279   \n",
      "246  2023      7  75,378,157  12,432,615  87,810,772  684,939  79,738   \n",
      "247  2023      8  71,477,988  11,572,149  83,050,137  691,482  77,137   \n",
      "248  2023      9  66,858,490   9,392,985  76,251,475  649,308  64,241   \n",
      "\n",
      "         Flt     Dom_RPM     Int_RPM          RPM     Dom_ASM     Int_ASM  \\\n",
      "244  739,255  66,743,565  26,805,432   93,548,998  77,821,407  31,950,687   \n",
      "245  736,572  68,789,127  29,883,465   98,672,591  78,058,358  33,410,671   \n",
      "246  764,677  72,267,904  31,376,000  103,643,904  81,986,010  35,326,191   \n",
      "247  768,619  67,933,484  29,938,507   97,871,992  81,997,399  34,908,793   \n",
      "248  713,549  61,777,546  26,076,318   87,853,864  75,748,336  31,231,710   \n",
      "\n",
      "             ASM  Dom_LF  Int_LF     LF  \n",
      "244  109,772,094   85.77   83.90  85.22  \n",
      "245  111,469,028   88.13   89.44  88.52  \n",
      "246  117,312,202   88.15   88.82  88.35  \n",
      "247  116,906,192   82.85   85.76  83.72  \n",
      "248  106,980,046   81.56   83.49  82.12  \n"
     ]
    }
   ],
   "source": [
    "print(df.tail())"
   ]
  },
  {
   "cell_type": "markdown",
   "id": "42b31930-7daf-463f-893a-e5d62e2d66e0",
   "metadata": {},
   "source": [
    "To find Minimum RPM of given data"
   ]
  },
  {
   "cell_type": "code",
   "execution_count": 8,
   "id": "3e5d40a7-23f3-48a6-af05-c03cdf32d74d",
   "metadata": {},
   "outputs": [
    {
     "name": "stdout",
     "output_type": "stream",
     "text": [
      "minimum RPM : 101,723,592\n"
     ]
    }
   ],
   "source": [
    "min_RPM = df['RPM'].min()\n",
    "print(f\"minimum RPM : {min_RPM}\")"
   ]
  },
  {
   "cell_type": "markdown",
   "id": "df9992b0-16cb-4a79-b036-50dea98472ed",
   "metadata": {},
   "source": [
    "To find maximum RPM for given data"
   ]
  },
  {
   "cell_type": "code",
   "execution_count": 9,
   "id": "99083762-2842-48c3-b735-4e1ab0983e56",
   "metadata": {},
   "outputs": [
    {
     "name": "stdout",
     "output_type": "stream",
     "text": [
      "maximum RPM : 98,808,435\n"
     ]
    }
   ],
   "source": [
    "max_RPM = df['RPM'].max()\n",
    "print(f\"maximum RPM : {max_RPM}\")"
   ]
  },
  {
   "cell_type": "markdown",
   "id": "a2882330-44ca-465c-95e5-827ad9dde3c4",
   "metadata": {},
   "source": [
    "To find mean RPM for given data"
   ]
  },
  {
   "cell_type": "markdown",
   "id": "3c9fc9ee-a31c-48ed-ae6b-d61f34e60800",
   "metadata": {},
   "source": [
    " Remove commas from the 'RPM' column and convert to numeric"
   ]
  },
  {
   "cell_type": "code",
   "execution_count": 10,
   "id": "2790e232-87f7-4ae6-be43-b82874047561",
   "metadata": {},
   "outputs": [],
   "source": [
    "df['RPM'] = pd.to_numeric(df['RPM'].str.replace(',',''),errors='coerce')"
   ]
  },
  {
   "cell_type": "code",
   "execution_count": 11,
   "id": "cb60725c-cad1-4077-890b-f6bb4afbc629",
   "metadata": {},
   "outputs": [],
   "source": [
    "mean_RPM = df['RPM'].mean()"
   ]
  },
  {
   "cell_type": "code",
   "execution_count": 12,
   "id": "cc1776cb-d3f1-4c88-985c-8ece6550ae41",
   "metadata": {},
   "outputs": [
    {
     "name": "stdout",
     "output_type": "stream",
     "text": [
      "mean_RPM is: 68759060.96385542\n"
     ]
    }
   ],
   "source": [
    "print(f\"mean_RPM is: {mean_RPM}\")"
   ]
  },
  {
   "cell_type": "markdown",
   "id": "6442d373-dc51-4e4d-9c8f-766e49241025",
   "metadata": {},
   "source": [
    " Filter data for the year range 2008 to 2018"
   ]
  },
  {
   "cell_type": "code",
   "execution_count": 13,
   "id": "1dabc802-2b0a-4a38-9489-90c77b938672",
   "metadata": {},
   "outputs": [
    {
     "name": "stdout",
     "output_type": "stream",
     "text": [
      "filtered data for the year range 2008 to 2018:\n",
      "     Year  Month     Dom_Pax     Int_Pax         Pax  Dom_Flt Int_Flt  \\\n",
      "60   2008      1  50,245,100   7,214,702  57,459,802  793,275  70,805   \n",
      "61   2008      2  50,118,363   6,691,283  56,809,646  746,679  66,402   \n",
      "62   2008      3  59,213,077   8,257,253  67,470,330  817,511  74,449   \n",
      "63   2008      4  55,611,053   7,361,463  62,972,516  799,664  70,840   \n",
      "64   2008      5  58,047,400   7,747,506  65,794,906  820,114  71,787   \n",
      "..    ...    ...         ...         ...         ...      ...     ...   \n",
      "187  2018      8  70,337,936  10,624,720  80,962,656  756,345  77,086   \n",
      "188  2018      9  60,468,115   8,208,432  68,676,547  686,422  65,032   \n",
      "189  2018     10  67,081,594   8,399,032  75,480,626  722,634  66,557   \n",
      "190  2018     11  64,659,493   8,052,683  72,712,176  678,121  64,528   \n",
      "191  2018     12  63,646,119   9,209,221  72,855,340  691,040  73,025   \n",
      "\n",
      "         Flt     Dom_RPM     Int_RPM       RPM     Dom_ASM     Int_ASM  \\\n",
      "60   864,080  44,233,383  18,682,398  62915780  60,635,551  24,474,296   \n",
      "61   813,081  43,429,251  16,602,844  60032096  57,170,275  22,832,413   \n",
      "62   891,960  52,016,986  20,818,061  72835047  63,249,344  25,295,113   \n",
      "63   870,504  48,189,445  19,238,317  67427762  60,127,860  24,913,253   \n",
      "64   891,901  50,259,912  20,972,031  71231943  61,778,284  26,236,332   \n",
      "..       ...         ...         ...       ...         ...         ...   \n",
      "187  833,431  66,132,022  28,638,849  94770872  76,722,785  33,238,079   \n",
      "188  751,454  55,431,352  23,604,682  79036033  68,530,468  29,479,449   \n",
      "189  789,191  61,011,629  23,294,709  84306338  72,044,924  29,079,416   \n",
      "190  742,649  58,779,361  20,613,643  79393004  69,098,147  25,689,087   \n",
      "191  764,065  59,477,976  23,210,813  82688789  71,865,604  28,476,318   \n",
      "\n",
      "             ASM  Dom_LF  Int_LF     LF  \n",
      "60    85,109,847   72.95   76.33  73.92  \n",
      "61    80,002,688   75.96   72.72  75.04  \n",
      "62    88,544,457   82.24   82.30  82.26  \n",
      "63    85,041,112   80.14   77.22  79.29  \n",
      "64    88,014,616   81.36   79.94  80.93  \n",
      "..           ...     ...     ...    ...  \n",
      "187  109,960,864   86.20   86.16  86.19  \n",
      "188   98,009,918   80.89   80.07  80.64  \n",
      "189  101,124,339   84.69   80.11  83.37  \n",
      "190   94,787,234   85.07   80.24  83.76  \n",
      "191  100,341,922   82.76   81.51  82.41  \n",
      "\n",
      "[132 rows x 17 columns]\n"
     ]
    }
   ],
   "source": [
    "filtered_data = df.query(\"Year >=2008 and Year <=2018\")\n",
    "print(\"filtered data for the year range 2008 to 2018:\")\n",
    "print(filtered_data)"
   ]
  },
  {
   "cell_type": "code",
   "execution_count": 14,
   "id": "8134a5f7-6291-4ea0-aa51-40c5cfccc3c0",
   "metadata": {},
   "outputs": [
    {
     "name": "stderr",
     "output_type": "stream",
     "text": [
      "C:\\Users\\HP\\AppData\\Local\\Temp\\ipykernel_11536\\3353390529.py:1: SettingWithCopyWarning: \n",
      "A value is trying to be set on a copy of a slice from a DataFrame.\n",
      "Try using .loc[row_indexer,col_indexer] = value instead\n",
      "\n",
      "See the caveats in the documentation: https://pandas.pydata.org/pandas-docs/stable/user_guide/indexing.html#returning-a-view-versus-a-copy\n",
      "  filtered_data['ASM'] = pd.to_numeric(filtered_data['ASM'].str.replace(',',''),errors='coerce')\n"
     ]
    }
   ],
   "source": [
    "filtered_data['ASM'] = pd.to_numeric(filtered_data['ASM'].str.replace(',',''),errors='coerce')"
   ]
  },
  {
   "cell_type": "markdown",
   "id": "6055959f-ae84-4d0a-be25-a86ecbfe8a94",
   "metadata": {},
   "source": [
    "To find the mean \"ASM\" of filtered data"
   ]
  },
  {
   "cell_type": "code",
   "execution_count": 15,
   "id": "89fe47c1-3239-4c87-a909-c78c02a4fc91",
   "metadata": {},
   "outputs": [
    {
     "name": "stdout",
     "output_type": "stream",
     "text": [
      "mean ASM of filterd data: 86984841.1969697\n"
     ]
    }
   ],
   "source": [
    "mean_ASM_filtered = filtered_data['ASM'].mean()\n",
    "print(f\"mean ASM of filterd data: {mean_ASM_filtered}\")"
   ]
  },
  {
   "cell_type": "markdown",
   "id": "e0fc0f46-2a10-4ea7-a667-2d956fff1786",
   "metadata": {},
   "source": [
    "select samples for october month from filtered dataset"
   ]
  },
  {
   "cell_type": "code",
   "execution_count": 16,
   "id": "84437230-f29d-4443-af08-9be426c84fd5",
   "metadata": {},
   "outputs": [
    {
     "name": "stdout",
     "output_type": "stream",
     "text": [
      "\n",
      "Samples for October Month:\n",
      "Empty DataFrame\n",
      "Columns: [Year, Month, Dom_Pax, Int_Pax, Pax, Dom_Flt, Int_Flt, Flt, Dom_RPM, Int_RPM, RPM, Dom_ASM, Int_ASM, ASM, Dom_LF, Int_LF, LF]\n",
      "Index: []\n"
     ]
    }
   ],
   "source": [
    "October_data = filtered_data[filtered_data['Month'] == 'October']\n",
    "print(\"\\nSamples for October Month:\")\n",
    "print(October_data)"
   ]
  },
  {
   "cell_type": "code",
   "execution_count": 17,
   "id": "976dfa9b-728d-4188-a267-09d013947467",
   "metadata": {},
   "outputs": [
    {
     "name": "stdout",
     "output_type": "stream",
     "text": [
      "<class 'pandas.core.frame.DataFrame'>\n",
      "RangeIndex: 249 entries, 0 to 248\n",
      "Data columns (total 17 columns):\n",
      " #   Column   Non-Null Count  Dtype  \n",
      "---  ------   --------------  -----  \n",
      " 0   Year     249 non-null    int64  \n",
      " 1   Month    249 non-null    int64  \n",
      " 2   Dom_Pax  249 non-null    object \n",
      " 3   Int_Pax  249 non-null    object \n",
      " 4   Pax      249 non-null    object \n",
      " 5   Dom_Flt  249 non-null    object \n",
      " 6   Int_Flt  249 non-null    object \n",
      " 7   Flt      249 non-null    object \n",
      " 8   Dom_RPM  249 non-null    object \n",
      " 9   Int_RPM  249 non-null    object \n",
      " 10  RPM      249 non-null    int64  \n",
      " 11  Dom_ASM  249 non-null    object \n",
      " 12  Int_ASM  249 non-null    object \n",
      " 13  ASM      249 non-null    object \n",
      " 14  Dom_LF   249 non-null    float64\n",
      " 15  Int_LF   249 non-null    float64\n",
      " 16  LF       249 non-null    float64\n",
      "dtypes: float64(3), int64(3), object(11)\n",
      "memory usage: 33.2+ KB\n"
     ]
    }
   ],
   "source": [
    "df.info()"
   ]
  },
  {
   "cell_type": "code",
   "execution_count": 18,
   "id": "919dfa1a-61ce-459c-815b-acf460acfcbb",
   "metadata": {},
   "outputs": [
    {
     "data": {
      "text/html": [
       "<div>\n",
       "<style scoped>\n",
       "    .dataframe tbody tr th:only-of-type {\n",
       "        vertical-align: middle;\n",
       "    }\n",
       "\n",
       "    .dataframe tbody tr th {\n",
       "        vertical-align: top;\n",
       "    }\n",
       "\n",
       "    .dataframe thead th {\n",
       "        text-align: right;\n",
       "    }\n",
       "</style>\n",
       "<table border=\"1\" class=\"dataframe\">\n",
       "  <thead>\n",
       "    <tr style=\"text-align: right;\">\n",
       "      <th></th>\n",
       "      <th>Year</th>\n",
       "      <th>Month</th>\n",
       "      <th>RPM</th>\n",
       "      <th>Dom_LF</th>\n",
       "      <th>Int_LF</th>\n",
       "      <th>LF</th>\n",
       "    </tr>\n",
       "  </thead>\n",
       "  <tbody>\n",
       "    <tr>\n",
       "      <th>count</th>\n",
       "      <td>249.000000</td>\n",
       "      <td>249.000000</td>\n",
       "      <td>2.490000e+02</td>\n",
       "      <td>249.000000</td>\n",
       "      <td>249.000000</td>\n",
       "      <td>249.000000</td>\n",
       "    </tr>\n",
       "    <tr>\n",
       "      <th>mean</th>\n",
       "      <td>2012.879518</td>\n",
       "      <td>6.445783</td>\n",
       "      <td>6.875906e+07</td>\n",
       "      <td>79.938394</td>\n",
       "      <td>77.304940</td>\n",
       "      <td>79.286305</td>\n",
       "    </tr>\n",
       "    <tr>\n",
       "      <th>std</th>\n",
       "      <td>6.002817</td>\n",
       "      <td>3.442803</td>\n",
       "      <td>1.548875e+07</td>\n",
       "      <td>8.860562</td>\n",
       "      <td>10.907145</td>\n",
       "      <td>8.895700</td>\n",
       "    </tr>\n",
       "    <tr>\n",
       "      <th>min</th>\n",
       "      <td>2003.000000</td>\n",
       "      <td>1.000000</td>\n",
       "      <td>2.907889e+06</td>\n",
       "      <td>13.090000</td>\n",
       "      <td>23.150000</td>\n",
       "      <td>13.830000</td>\n",
       "    </tr>\n",
       "    <tr>\n",
       "      <th>25%</th>\n",
       "      <td>2008.000000</td>\n",
       "      <td>3.000000</td>\n",
       "      <td>6.182568e+07</td>\n",
       "      <td>77.720000</td>\n",
       "      <td>76.430000</td>\n",
       "      <td>76.940000</td>\n",
       "    </tr>\n",
       "    <tr>\n",
       "      <th>50%</th>\n",
       "      <td>2013.000000</td>\n",
       "      <td>6.000000</td>\n",
       "      <td>6.900519e+07</td>\n",
       "      <td>82.120000</td>\n",
       "      <td>79.910000</td>\n",
       "      <td>81.580000</td>\n",
       "    </tr>\n",
       "    <tr>\n",
       "      <th>75%</th>\n",
       "      <td>2018.000000</td>\n",
       "      <td>9.000000</td>\n",
       "      <td>7.803987e+07</td>\n",
       "      <td>85.240000</td>\n",
       "      <td>82.930000</td>\n",
       "      <td>84.070000</td>\n",
       "    </tr>\n",
       "    <tr>\n",
       "      <th>max</th>\n",
       "      <td>2023.000000</td>\n",
       "      <td>12.000000</td>\n",
       "      <td>1.036439e+08</td>\n",
       "      <td>89.960000</td>\n",
       "      <td>89.440000</td>\n",
       "      <td>89.140000</td>\n",
       "    </tr>\n",
       "  </tbody>\n",
       "</table>\n",
       "</div>"
      ],
      "text/plain": [
       "              Year       Month           RPM      Dom_LF      Int_LF  \\\n",
       "count   249.000000  249.000000  2.490000e+02  249.000000  249.000000   \n",
       "mean   2012.879518    6.445783  6.875906e+07   79.938394   77.304940   \n",
       "std       6.002817    3.442803  1.548875e+07    8.860562   10.907145   \n",
       "min    2003.000000    1.000000  2.907889e+06   13.090000   23.150000   \n",
       "25%    2008.000000    3.000000  6.182568e+07   77.720000   76.430000   \n",
       "50%    2013.000000    6.000000  6.900519e+07   82.120000   79.910000   \n",
       "75%    2018.000000    9.000000  7.803987e+07   85.240000   82.930000   \n",
       "max    2023.000000   12.000000  1.036439e+08   89.960000   89.440000   \n",
       "\n",
       "               LF  \n",
       "count  249.000000  \n",
       "mean    79.286305  \n",
       "std      8.895700  \n",
       "min     13.830000  \n",
       "25%     76.940000  \n",
       "50%     81.580000  \n",
       "75%     84.070000  \n",
       "max     89.140000  "
      ]
     },
     "execution_count": 18,
     "metadata": {},
     "output_type": "execute_result"
    }
   ],
   "source": [
    "df.describe()"
   ]
  },
  {
   "cell_type": "code",
   "execution_count": 19,
   "id": "86f4d8f1-1df3-4ea7-9ce9-948b04fd3c20",
   "metadata": {},
   "outputs": [
    {
     "data": {
      "text/plain": [
       "(249, 17)"
      ]
     },
     "execution_count": 19,
     "metadata": {},
     "output_type": "execute_result"
    }
   ],
   "source": [
    "df.shape"
   ]
  },
  {
   "cell_type": "code",
   "execution_count": 26,
   "id": "39eb2e20-5be7-4342-a1d6-bb4e30368eb2",
   "metadata": {},
   "outputs": [
    {
     "data": {
      "text/plain": [
       "0"
      ]
     },
     "execution_count": 26,
     "metadata": {},
     "output_type": "execute_result"
    }
   ],
   "source": [
    "df.duplicated().sum()"
   ]
  },
  {
   "cell_type": "code",
   "execution_count": 29,
   "id": "35300820-22ba-4ad0-9b56-d0661161c90b",
   "metadata": {},
   "outputs": [
    {
     "data": {
      "text/plain": [
       "array([ 49097402,  44863907,  54341633,  49836572,  52576960,  58411157,\n",
       "        63838718,  62888957,  50390709,  54927858,  52150704,  56629161,\n",
       "        51630246,  50728516,  61243168,  60133853,  60738719,  66781050,\n",
       "        70913074,  68576861,  55891980,  61149590,  57680434,  60704483,\n",
       "        57189815,  53585374,  68083625,  63221309,  66410718,  70932197,\n",
       "        75327821,  71715093,  60156904,  61984902,  59881618,  62529273,\n",
       "        59124144,  54840660,  68788597,  66486229,  67768038,  72475640,\n",
       "        76017350,  72416999,  60645709,  64503000,  62082045,  64540276,\n",
       "        61274015,  56358256,  70864780,  68235568,  70373594,  75344370,\n",
       "        79282259,  77743296,  64235122,  67831299,  64764800,  66192270,\n",
       "        62915780,  60032096,  72835047,  67427762,  71231943,  74728358,\n",
       "        78177305,  75805618,  59753028,  63420648,  57131088,  62102823,\n",
       "        56828341,  52248007,  64646403,  63869329,  64525671,  70075046,\n",
       "        75673991,  73087008,  60057023,  62834599,  57660077,  61825679,\n",
       "        58142556,  51971540,  66766075,  63597189,  67496398,  73105121,\n",
       "        77683559,  75215344,  64105775,  67717592,  61982017,  64425278,\n",
       "        60201146,  54027258,  68681228,  66336076,  70339494,  74649026,\n",
       "        79874404,  75702739,  65068612,  66866065,  62105702,  65013051,\n",
       "        60588901,  57023629,  70332653,  67360814,  70700468,  75547726,\n",
       "        79173602,  77245683,  64792261,  66512697,  62923447,  65425803,\n",
       "        61943838,  57086904,  71677898,  67368414,  72502358,  77380313,\n",
       "        80796627,  78837393,  66138136,  68607779,  62574544,  69868434,\n",
       "        63592984,  57480217,  73172203,  70349305,  74815503,  79100448,\n",
       "        83309497,  80871859,  68075689,  70948681,  64877072,  71436095,\n",
       "        65635591,  59486447,  75436197,  72842466,  77745782,  82442822,\n",
       "        88004608,  84975596,  72262177,  75860840,  69789747,  74551779,\n",
       "        69005186,  64317478,  78426341,  74895985,  80549240,  86320472,\n",
       "        90429208,  85944849,  75141211,  77095632,  72086104,  76813919,\n",
       "        71304592,  64146810,  80704768,  79360403,  83416119,  89548749,\n",
       "        93993807,  90322912,  74539144,  80518965,  75564688,  79528602,\n",
       "        73265996,  68127042,  85500726,  82447659,  87937012,  94290701,\n",
       "        98808435,  94770872,  79036033,  84306338,  79393004,  82688789,\n",
       "        76865026,  70697283,  89896073,  86128147,  92478276,  97735383,\n",
       "       101723592,  97950411,  83297229,  87614104,  80488836,  89924177,\n",
       "        81008896,  73863606,  42756095,   2907889,   8596904,  14904189,\n",
       "        22058844,  23814064,  23063760,  27858809,  27949973,  30826732,\n",
       "        27792473,  26318431,  42678566,  47638554,  57814938,  68533017,\n",
       "        78039874,  71730666,  60545242,  66919419,  67941900,  71870782,\n",
       "        56453337,  58032817,  77887859,  78800100,  83495540,  87619968,\n",
       "        92074279,  87914480,  80324058,  84114840,  78886747,  82320321,\n",
       "        76648988,  71584338,  89569950,  88134739,  93548998,  98672591,\n",
       "       103643904,  97871992,  87853864], dtype=int64)"
      ]
     },
     "execution_count": 29,
     "metadata": {},
     "output_type": "execute_result"
    }
   ],
   "source": [
    "df['RPM'].unique()"
   ]
  },
  {
   "cell_type": "code",
   "execution_count": 32,
   "id": "d6e08851-e4c7-4509-a0d5-d352a13fd232",
   "metadata": {},
   "outputs": [
    {
     "name": "stdout",
     "output_type": "stream",
     "text": [
      "Collecting seaborn\n",
      "  Obtaining dependency information for seaborn from https://files.pythonhosted.org/packages/83/11/00d3c3dfc25ad54e731d91449895a79e4bf2384dc3ac01809010ba88f6d5/seaborn-0.13.2-py3-none-any.whl.metadata\n",
      "  Downloading seaborn-0.13.2-py3-none-any.whl.metadata (5.4 kB)\n",
      "Requirement already satisfied: numpy!=1.24.0,>=1.20 in c:\\users\\hp\\appdata\\local\\programs\\python\\python312\\lib\\site-packages (from seaborn) (1.26.3)\n",
      "Requirement already satisfied: pandas>=1.2 in c:\\users\\hp\\appdata\\local\\programs\\python\\python312\\lib\\site-packages (from seaborn) (2.2.0)\n",
      "Collecting matplotlib!=3.6.1,>=3.4 (from seaborn)\n",
      "  Obtaining dependency information for matplotlib!=3.6.1,>=3.4 from https://files.pythonhosted.org/packages/2e/51/c77a14869b7eb9d6fb440e811b754fc3950d6868c38ace57d0632b674415/matplotlib-3.8.2-cp312-cp312-win_amd64.whl.metadata\n",
      "  Downloading matplotlib-3.8.2-cp312-cp312-win_amd64.whl.metadata (5.9 kB)\n",
      "Collecting contourpy>=1.0.1 (from matplotlib!=3.6.1,>=3.4->seaborn)\n",
      "  Obtaining dependency information for contourpy>=1.0.1 from https://files.pythonhosted.org/packages/8e/ae/a6353db548bff1a592b85ae6bb80275f0a51dc25a0410d059e5b33183e36/contourpy-1.2.0-cp312-cp312-win_amd64.whl.metadata\n",
      "  Downloading contourpy-1.2.0-cp312-cp312-win_amd64.whl.metadata (5.8 kB)\n",
      "Collecting cycler>=0.10 (from matplotlib!=3.6.1,>=3.4->seaborn)\n",
      "  Obtaining dependency information for cycler>=0.10 from https://files.pythonhosted.org/packages/e7/05/c19819d5e3d95294a6f5947fb9b9629efb316b96de511b418c53d245aae6/cycler-0.12.1-py3-none-any.whl.metadata\n",
      "  Downloading cycler-0.12.1-py3-none-any.whl.metadata (3.8 kB)\n",
      "Collecting fonttools>=4.22.0 (from matplotlib!=3.6.1,>=3.4->seaborn)\n",
      "  Obtaining dependency information for fonttools>=4.22.0 from https://files.pythonhosted.org/packages/81/4b/42d0488765ea5aa308b4e8197cb75366b2124240a73e86f98b6107ccf282/fonttools-4.47.2-cp312-cp312-win_amd64.whl.metadata\n",
      "  Downloading fonttools-4.47.2-cp312-cp312-win_amd64.whl.metadata (160 kB)\n",
      "     ---------------------------------------- 0.0/160.8 kB ? eta -:--:--\n",
      "     -- ------------------------------------- 10.2/160.8 kB ? eta -:--:--\n",
      "     -------------- ---------------------- 61.4/160.8 kB 812.7 kB/s eta 0:00:01\n",
      "     ------------------------------------ - 153.6/160.8 kB 1.3 MB/s eta 0:00:01\n",
      "     -------------------------------------- 160.8/160.8 kB 1.2 MB/s eta 0:00:00\n",
      "Collecting kiwisolver>=1.3.1 (from matplotlib!=3.6.1,>=3.4->seaborn)\n",
      "  Obtaining dependency information for kiwisolver>=1.3.1 from https://files.pythonhosted.org/packages/63/50/2746566bdf4a6a842d117367d05c90cfb87ac04e9e2845aa1fa21f071362/kiwisolver-1.4.5-cp312-cp312-win_amd64.whl.metadata\n",
      "  Downloading kiwisolver-1.4.5-cp312-cp312-win_amd64.whl.metadata (6.5 kB)\n",
      "Requirement already satisfied: packaging>=20.0 in c:\\users\\hp\\appdata\\local\\programs\\python\\python312\\lib\\site-packages (from matplotlib!=3.6.1,>=3.4->seaborn) (23.2)\n",
      "Collecting pillow>=8 (from matplotlib!=3.6.1,>=3.4->seaborn)\n",
      "  Obtaining dependency information for pillow>=8 from https://files.pythonhosted.org/packages/51/07/7e9266a59bb267b56c1f432f6416653b9a78dda771c57740d064a8aa2a44/pillow-10.2.0-cp312-cp312-win_amd64.whl.metadata\n",
      "  Downloading pillow-10.2.0-cp312-cp312-win_amd64.whl.metadata (9.9 kB)\n",
      "Collecting pyparsing>=2.3.1 (from matplotlib!=3.6.1,>=3.4->seaborn)\n",
      "  Obtaining dependency information for pyparsing>=2.3.1 from https://files.pythonhosted.org/packages/39/92/8486ede85fcc088f1b3dba4ce92dd29d126fd96b0008ea213167940a2475/pyparsing-3.1.1-py3-none-any.whl.metadata\n",
      "  Downloading pyparsing-3.1.1-py3-none-any.whl.metadata (5.1 kB)\n",
      "Requirement already satisfied: python-dateutil>=2.7 in c:\\users\\hp\\appdata\\local\\programs\\python\\python312\\lib\\site-packages (from matplotlib!=3.6.1,>=3.4->seaborn) (2.8.2)\n",
      "Requirement already satisfied: pytz>=2020.1 in c:\\users\\hp\\appdata\\local\\programs\\python\\python312\\lib\\site-packages (from pandas>=1.2->seaborn) (2024.1)\n",
      "Requirement already satisfied: tzdata>=2022.7 in c:\\users\\hp\\appdata\\local\\programs\\python\\python312\\lib\\site-packages (from pandas>=1.2->seaborn) (2023.4)\n",
      "Requirement already satisfied: six>=1.5 in c:\\users\\hp\\appdata\\local\\programs\\python\\python312\\lib\\site-packages (from python-dateutil>=2.7->matplotlib!=3.6.1,>=3.4->seaborn) (1.16.0)\n",
      "Downloading seaborn-0.13.2-py3-none-any.whl (294 kB)\n",
      "   ---------------------------------------- 0.0/294.9 kB ? eta -:--:--\n",
      "   -------------------------- ------------- 194.6/294.9 kB 4.0 MB/s eta 0:00:01\n",
      "   ---------------------------------------- 294.9/294.9 kB 3.6 MB/s eta 0:00:00\n",
      "Downloading matplotlib-3.8.2-cp312-cp312-win_amd64.whl (7.6 MB)\n",
      "   ---------------------------------------- 0.0/7.6 MB ? eta -:--:--\n",
      "   - -------------------------------------- 0.3/7.6 MB 6.2 MB/s eta 0:00:02\n",
      "   -- ------------------------------------- 0.5/7.6 MB 4.9 MB/s eta 0:00:02\n",
      "   ---- ----------------------------------- 0.8/7.6 MB 5.0 MB/s eta 0:00:02\n",
      "   ----- ---------------------------------- 1.0/7.6 MB 4.8 MB/s eta 0:00:02\n",
      "   ------ --------------------------------- 1.2/7.6 MB 4.8 MB/s eta 0:00:02\n",
      "   ------- -------------------------------- 1.5/7.6 MB 4.9 MB/s eta 0:00:02\n",
      "   -------- ------------------------------- 1.7/7.6 MB 4.9 MB/s eta 0:00:02\n",
      "   ---------- ----------------------------- 2.0/7.6 MB 5.1 MB/s eta 0:00:02\n",
      "   ------------ --------------------------- 2.3/7.6 MB 5.2 MB/s eta 0:00:02\n",
      "   ------------- -------------------------- 2.6/7.6 MB 5.4 MB/s eta 0:00:01\n",
      "   --------------- ------------------------ 2.9/7.6 MB 5.4 MB/s eta 0:00:01\n",
      "   ---------------- ----------------------- 3.2/7.6 MB 5.5 MB/s eta 0:00:01\n",
      "   ------------------ --------------------- 3.5/7.6 MB 5.6 MB/s eta 0:00:01\n",
      "   ------------------- -------------------- 3.8/7.6 MB 5.6 MB/s eta 0:00:01\n",
      "   --------------------- ------------------ 4.1/7.6 MB 5.7 MB/s eta 0:00:01\n",
      "   ----------------------- ---------------- 4.4/7.6 MB 5.7 MB/s eta 0:00:01\n",
      "   ------------------------ --------------- 4.7/7.6 MB 5.8 MB/s eta 0:00:01\n",
      "   -------------------------- ------------- 5.0/7.6 MB 5.8 MB/s eta 0:00:01\n",
      "   --------------------------- ------------ 5.3/7.6 MB 5.8 MB/s eta 0:00:01\n",
      "   ----------------------------- ---------- 5.6/7.6 MB 5.9 MB/s eta 0:00:01\n",
      "   ------------------------------ --------- 5.9/7.6 MB 5.9 MB/s eta 0:00:01\n",
      "   -------------------------------- ------- 6.2/7.6 MB 5.9 MB/s eta 0:00:01\n",
      "   --------------------------------- ------ 6.3/7.6 MB 5.8 MB/s eta 0:00:01\n",
      "   ---------------------------------- ----- 6.6/7.6 MB 5.8 MB/s eta 0:00:01\n",
      "   ----------------------------------- ---- 6.9/7.6 MB 5.8 MB/s eta 0:00:01\n",
      "   ------------------------------------- -- 7.2/7.6 MB 5.8 MB/s eta 0:00:01\n",
      "   -------------------------------------- - 7.4/7.6 MB 5.8 MB/s eta 0:00:01\n",
      "   ---------------------------------------  7.6/7.6 MB 5.8 MB/s eta 0:00:01\n",
      "   ---------------------------------------- 7.6/7.6 MB 5.6 MB/s eta 0:00:00\n",
      "Downloading contourpy-1.2.0-cp312-cp312-win_amd64.whl (187 kB)\n",
      "   ---------------------------------------- 0.0/187.7 kB ? eta -:--:--\n",
      "   -------------------------- ------------- 122.9/187.7 kB 3.5 MB/s eta 0:00:01\n",
      "   ---------------------------------------- 187.7/187.7 kB 3.8 MB/s eta 0:00:00\n",
      "Downloading cycler-0.12.1-py3-none-any.whl (8.3 kB)\n",
      "Downloading fonttools-4.47.2-cp312-cp312-win_amd64.whl (2.2 MB)\n",
      "   ---------------------------------------- 0.0/2.2 MB ? eta -:--:--\n",
      "   ---- ----------------------------------- 0.3/2.2 MB 5.4 MB/s eta 0:00:01\n",
      "   -------- ------------------------------- 0.5/2.2 MB 5.0 MB/s eta 0:00:01\n",
      "   ------------- -------------------------- 0.7/2.2 MB 5.0 MB/s eta 0:00:01\n",
      "   ----------------- ---------------------- 0.9/2.2 MB 5.4 MB/s eta 0:00:01\n",
      "   ---------------------- ----------------- 1.2/2.2 MB 5.4 MB/s eta 0:00:01\n",
      "   --------------------------- ------------ 1.5/2.2 MB 5.2 MB/s eta 0:00:01\n",
      "   ------------------------------- -------- 1.7/2.2 MB 5.5 MB/s eta 0:00:01\n",
      "   ------------------------------------- -- 2.0/2.2 MB 5.4 MB/s eta 0:00:01\n",
      "   ---------------------------------------- 2.2/2.2 MB 5.1 MB/s eta 0:00:00\n",
      "Downloading kiwisolver-1.4.5-cp312-cp312-win_amd64.whl (56 kB)\n",
      "   ---------------------------------------- 0.0/56.0 kB ? eta -:--:--\n",
      "   ---------------------------------------- 56.0/56.0 kB 2.9 MB/s eta 0:00:00\n",
      "Downloading pillow-10.2.0-cp312-cp312-win_amd64.whl (2.6 MB)\n",
      "   ---------------------------------------- 0.0/2.6 MB ? eta -:--:--\n",
      "   --- ------------------------------------ 0.2/2.6 MB 7.4 MB/s eta 0:00:01\n",
      "   ------- -------------------------------- 0.5/2.6 MB 6.0 MB/s eta 0:00:01\n",
      "   ----------- ---------------------------- 0.8/2.6 MB 5.3 MB/s eta 0:00:01\n",
      "   --------------- ------------------------ 1.0/2.6 MB 5.5 MB/s eta 0:00:01\n",
      "   -------------------- ------------------- 1.4/2.6 MB 6.2 MB/s eta 0:00:01\n",
      "   ------------------------ --------------- 1.6/2.6 MB 6.1 MB/s eta 0:00:01\n",
      "   ----------------------------- ---------- 1.9/2.6 MB 6.1 MB/s eta 0:00:01\n",
      "   --------------------------------- ------ 2.2/2.6 MB 5.9 MB/s eta 0:00:01\n",
      "   ------------------------------------ --- 2.4/2.6 MB 5.9 MB/s eta 0:00:01\n",
      "   ---------------------------------------  2.6/2.6 MB 5.7 MB/s eta 0:00:01\n",
      "   ---------------------------------------- 2.6/2.6 MB 5.4 MB/s eta 0:00:00\n",
      "Downloading pyparsing-3.1.1-py3-none-any.whl (103 kB)\n",
      "   ---------------------------------------- 0.0/103.1 kB ? eta -:--:--\n",
      "   ---------------------------------------- 103.1/103.1 kB 5.8 MB/s eta 0:00:00\n",
      "Installing collected packages: pyparsing, pillow, kiwisolver, fonttools, cycler, contourpy, matplotlib, seaborn\n",
      "Successfully installed contourpy-1.2.0 cycler-0.12.1 fonttools-4.47.2 kiwisolver-1.4.5 matplotlib-3.8.2 pillow-10.2.0 pyparsing-3.1.1 seaborn-0.13.2\n",
      "Note: you may need to restart the kernel to use updated packages.\n"
     ]
    },
    {
     "name": "stderr",
     "output_type": "stream",
     "text": [
      "\n",
      "[notice] A new release of pip is available: 23.2.1 -> 24.0\n",
      "[notice] To update, run: python.exe -m pip install --upgrade pip\n"
     ]
    }
   ],
   "source": [
    "pip install seaborn"
   ]
  },
  {
   "cell_type": "code",
   "execution_count": 42,
   "id": "a6e91dd5-760a-4970-9fcd-d89e4894ab44",
   "metadata": {},
   "outputs": [],
   "source": [
    "import seaborn as sns"
   ]
  },
  {
   "cell_type": "code",
   "execution_count": 44,
   "id": "88a23a13-8042-4892-9505-2b34e879ce61",
   "metadata": {},
   "outputs": [
    {
     "ename": "AttributeError",
     "evalue": "'Axes' object has no attribute 'unique'",
     "output_type": "error",
     "traceback": [
      "\u001b[1;31m---------------------------------------------------------------------------\u001b[0m",
      "\u001b[1;31mAttributeError\u001b[0m                            Traceback (most recent call last)",
      "Cell \u001b[1;32mIn[44], line 1\u001b[0m\n\u001b[1;32m----> 1\u001b[0m \u001b[43msns\u001b[49m\u001b[38;5;241;43m.\u001b[39;49m\u001b[43mcountplot\u001b[49m\u001b[43m(\u001b[49m\u001b[43mdf\u001b[49m\u001b[43m[\u001b[49m\u001b[38;5;124;43m'\u001b[39;49m\u001b[38;5;124;43mRPM\u001b[39;49m\u001b[38;5;124;43m'\u001b[39;49m\u001b[43m]\u001b[49m\u001b[43m)\u001b[49m\u001b[38;5;241;43m.\u001b[39;49m\u001b[43munique\u001b[49m()\n",
      "\u001b[1;31mAttributeError\u001b[0m: 'Axes' object has no attribute 'unique'"
     ]
    },
    {
     "data": {
      "image/png": "[encoded data removed]",
      "text/plain": [
       "<Figure size 640x480 with 1 Axes>"
      ]
     },
     "metadata": {},
     "output_type": "display_data"
    }
   ],
   "source": [
    "sns.countplot(df['RPM']).unique()"
   ]
  },
  {
   "cell_type": "code",
   "execution_count": 45,
   "id": "241a1b87-aef6-4e17-80fc-542f45ef1054",
   "metadata": {},
   "outputs": [
    {
     "data": {
      "text/plain": [
       "Year       0\n",
       "Month      0\n",
       "Dom_Pax    0\n",
       "Int_Pax    0\n",
       "Pax        0\n",
       "Dom_Flt    0\n",
       "Int_Flt    0\n",
       "Flt        0\n",
       "Dom_RPM    0\n",
       "Int_RPM    0\n",
       "RPM        0\n",
       "Dom_ASM    0\n",
       "Int_ASM    0\n",
       "ASM        0\n",
       "Dom_LF     0\n",
       "Int_LF     0\n",
       "LF         0\n",
       "dtype: int64"
      ]
     },
     "execution_count": 45,
     "metadata": {},
     "output_type": "execute_result"
    }
   ],
   "source": [
    "df.isnull().sum()"
   ]
  },
  {
   "cell_type": "code",
   "execution_count": 46,
   "id": "13433c32-8b23-4daa-85de-e4107c953b0b",
   "metadata": {},
   "outputs": [
    {
     "data": {
      "text/html": [
       "<div>\n",
       "<style scoped>\n",
       "    .dataframe tbody tr th:only-of-type {\n",
       "        vertical-align: middle;\n",
       "    }\n",
       "\n",
       "    .dataframe tbody tr th {\n",
       "        vertical-align: top;\n",
       "    }\n",
       "\n",
       "    .dataframe thead th {\n",
       "        text-align: right;\n",
       "    }\n",
       "</style>\n",
       "<table border=\"1\" class=\"dataframe\">\n",
       "  <thead>\n",
       "    <tr style=\"text-align: right;\">\n",
       "      <th></th>\n",
       "      <th>Year</th>\n",
       "      <th>Month</th>\n",
       "      <th>Dom_Pax</th>\n",
       "      <th>Int_Pax</th>\n",
       "      <th>Pax</th>\n",
       "      <th>Dom_Flt</th>\n",
       "      <th>Int_Flt</th>\n",
       "      <th>Flt</th>\n",
       "      <th>Dom_RPM</th>\n",
       "      <th>Int_RPM</th>\n",
       "      <th>RPM</th>\n",
       "      <th>Dom_ASM</th>\n",
       "      <th>Int_ASM</th>\n",
       "      <th>ASM</th>\n",
       "      <th>Dom_LF</th>\n",
       "      <th>Int_LF</th>\n",
       "      <th>LF</th>\n",
       "    </tr>\n",
       "  </thead>\n",
       "  <tbody>\n",
       "    <tr>\n",
       "      <th>0</th>\n",
       "      <td>False</td>\n",
       "      <td>False</td>\n",
       "      <td>False</td>\n",
       "      <td>False</td>\n",
       "      <td>False</td>\n",
       "      <td>False</td>\n",
       "      <td>False</td>\n",
       "      <td>False</td>\n",
       "      <td>False</td>\n",
       "      <td>False</td>\n",
       "      <td>False</td>\n",
       "      <td>False</td>\n",
       "      <td>False</td>\n",
       "      <td>False</td>\n",
       "      <td>False</td>\n",
       "      <td>False</td>\n",
       "      <td>False</td>\n",
       "    </tr>\n",
       "    <tr>\n",
       "      <th>1</th>\n",
       "      <td>False</td>\n",
       "      <td>False</td>\n",
       "      <td>False</td>\n",
       "      <td>False</td>\n",
       "      <td>False</td>\n",
       "      <td>False</td>\n",
       "      <td>False</td>\n",
       "      <td>False</td>\n",
       "      <td>False</td>\n",
       "      <td>False</td>\n",
       "      <td>False</td>\n",
       "      <td>False</td>\n",
       "      <td>False</td>\n",
       "      <td>False</td>\n",
       "      <td>False</td>\n",
       "      <td>False</td>\n",
       "      <td>False</td>\n",
       "    </tr>\n",
       "    <tr>\n",
       "      <th>2</th>\n",
       "      <td>False</td>\n",
       "      <td>False</td>\n",
       "      <td>False</td>\n",
       "      <td>False</td>\n",
       "      <td>False</td>\n",
       "      <td>False</td>\n",
       "      <td>False</td>\n",
       "      <td>False</td>\n",
       "      <td>False</td>\n",
       "      <td>False</td>\n",
       "      <td>False</td>\n",
       "      <td>False</td>\n",
       "      <td>False</td>\n",
       "      <td>False</td>\n",
       "      <td>False</td>\n",
       "      <td>False</td>\n",
       "      <td>False</td>\n",
       "    </tr>\n",
       "    <tr>\n",
       "      <th>3</th>\n",
       "      <td>False</td>\n",
       "      <td>False</td>\n",
       "      <td>False</td>\n",
       "      <td>False</td>\n",
       "      <td>False</td>\n",
       "      <td>False</td>\n",
       "      <td>False</td>\n",
       "      <td>False</td>\n",
       "      <td>False</td>\n",
       "      <td>False</td>\n",
       "      <td>False</td>\n",
       "      <td>False</td>\n",
       "      <td>False</td>\n",
       "      <td>False</td>\n",
       "      <td>False</td>\n",
       "      <td>False</td>\n",
       "      <td>False</td>\n",
       "    </tr>\n",
       "    <tr>\n",
       "      <th>4</th>\n",
       "      <td>False</td>\n",
       "      <td>False</td>\n",
       "      <td>False</td>\n",
       "      <td>False</td>\n",
       "      <td>False</td>\n",
       "      <td>False</td>\n",
       "      <td>False</td>\n",
       "      <td>False</td>\n",
       "      <td>False</td>\n",
       "      <td>False</td>\n",
       "      <td>False</td>\n",
       "      <td>False</td>\n",
       "      <td>False</td>\n",
       "      <td>False</td>\n",
       "      <td>False</td>\n",
       "      <td>False</td>\n",
       "      <td>False</td>\n",
       "    </tr>\n",
       "    <tr>\n",
       "      <th>...</th>\n",
       "      <td>...</td>\n",
       "      <td>...</td>\n",
       "      <td>...</td>\n",
       "      <td>...</td>\n",
       "      <td>...</td>\n",
       "      <td>...</td>\n",
       "      <td>...</td>\n",
       "      <td>...</td>\n",
       "      <td>...</td>\n",
       "      <td>...</td>\n",
       "      <td>...</td>\n",
       "      <td>...</td>\n",
       "      <td>...</td>\n",
       "      <td>...</td>\n",
       "      <td>...</td>\n",
       "      <td>...</td>\n",
       "      <td>...</td>\n",
       "    </tr>\n",
       "    <tr>\n",
       "      <th>244</th>\n",
       "      <td>False</td>\n",
       "      <td>False</td>\n",
       "      <td>False</td>\n",
       "      <td>False</td>\n",
       "      <td>False</td>\n",
       "      <td>False</td>\n",
       "      <td>False</td>\n",
       "      <td>False</td>\n",
       "      <td>False</td>\n",
       "      <td>False</td>\n",
       "      <td>False</td>\n",
       "      <td>False</td>\n",
       "      <td>False</td>\n",
       "      <td>False</td>\n",
       "      <td>False</td>\n",
       "      <td>False</td>\n",
       "      <td>False</td>\n",
       "    </tr>\n",
       "    <tr>\n",
       "      <th>245</th>\n",
       "      <td>False</td>\n",
       "      <td>False</td>\n",
       "      <td>False</td>\n",
       "      <td>False</td>\n",
       "      <td>False</td>\n",
       "      <td>False</td>\n",
       "      <td>False</td>\n",
       "      <td>False</td>\n",
       "      <td>False</td>\n",
       "      <td>False</td>\n",
       "      <td>False</td>\n",
       "      <td>False</td>\n",
       "      <td>False</td>\n",
       "      <td>False</td>\n",
       "      <td>False</td>\n",
       "      <td>False</td>\n",
       "      <td>False</td>\n",
       "    </tr>\n",
       "    <tr>\n",
       "      <th>246</th>\n",
       "      <td>False</td>\n",
       "      <td>False</td>\n",
       "      <td>False</td>\n",
       "      <td>False</td>\n",
       "      <td>False</td>\n",
       "      <td>False</td>\n",
       "      <td>False</td>\n",
       "      <td>False</td>\n",
       "      <td>False</td>\n",
       "      <td>False</td>\n",
       "      <td>False</td>\n",
       "      <td>False</td>\n",
       "      <td>False</td>\n",
       "      <td>False</td>\n",
       "      <td>False</td>\n",
       "      <td>False</td>\n",
       "      <td>False</td>\n",
       "    </tr>\n",
       "    <tr>\n",
       "      <th>247</th>\n",
       "      <td>False</td>\n",
       "      <td>False</td>\n",
       "      <td>False</td>\n",
       "      <td>False</td>\n",
       "      <td>False</td>\n",
       "      <td>False</td>\n",
       "      <td>False</td>\n",
       "      <td>False</td>\n",
       "      <td>False</td>\n",
       "      <td>False</td>\n",
       "      <td>False</td>\n",
       "      <td>False</td>\n",
       "      <td>False</td>\n",
       "      <td>False</td>\n",
       "      <td>False</td>\n",
       "      <td>False</td>\n",
       "      <td>False</td>\n",
       "    </tr>\n",
       "    <tr>\n",
       "      <th>248</th>\n",
       "      <td>False</td>\n",
       "      <td>False</td>\n",
       "      <td>False</td>\n",
       "      <td>False</td>\n",
       "      <td>False</td>\n",
       "      <td>False</td>\n",
       "      <td>False</td>\n",
       "      <td>False</td>\n",
       "      <td>False</td>\n",
       "      <td>False</td>\n",
       "      <td>False</td>\n",
       "      <td>False</td>\n",
       "      <td>False</td>\n",
       "      <td>False</td>\n",
       "      <td>False</td>\n",
       "      <td>False</td>\n",
       "      <td>False</td>\n",
       "    </tr>\n",
       "  </tbody>\n",
       "</table>\n",
       "<p>249 rows × 17 columns</p>\n",
       "</div>"
      ],
      "text/plain": [
       "      Year  Month  Dom_Pax  Int_Pax    Pax  Dom_Flt  Int_Flt    Flt  Dom_RPM  \\\n",
       "0    False  False    False    False  False    False    False  False    False   \n",
       "1    False  False    False    False  False    False    False  False    False   \n",
       "2    False  False    False    False  False    False    False  False    False   \n",
       "3    False  False    False    False  False    False    False  False    False   \n",
       "4    False  False    False    False  False    False    False  False    False   \n",
       "..     ...    ...      ...      ...    ...      ...      ...    ...      ...   \n",
       "244  False  False    False    False  False    False    False  False    False   \n",
       "245  False  False    False    False  False    False    False  False    False   \n",
       "246  False  False    False    False  False    False    False  False    False   \n",
       "247  False  False    False    False  False    False    False  False    False   \n",
       "248  False  False    False    False  False    False    False  False    False   \n",
       "\n",
       "     Int_RPM    RPM  Dom_ASM  Int_ASM    ASM  Dom_LF  Int_LF     LF  \n",
       "0      False  False    False    False  False   False   False  False  \n",
       "1      False  False    False    False  False   False   False  False  \n",
       "2      False  False    False    False  False   False   False  False  \n",
       "3      False  False    False    False  False   False   False  False  \n",
       "4      False  False    False    False  False   False   False  False  \n",
       "..       ...    ...      ...      ...    ...     ...     ...    ...  \n",
       "244    False  False    False    False  False   False   False  False  \n",
       "245    False  False    False    False  False   False   False  False  \n",
       "246    False  False    False    False  False   False   False  False  \n",
       "247    False  False    False    False  False   False   False  False  \n",
       "248    False  False    False    False  False   False   False  False  \n",
       "\n",
       "[249 rows x 17 columns]"
      ]
     },
     "execution_count": 46,
     "metadata": {},
     "output_type": "execute_result"
    }
   ],
   "source": [
    "df.isnull()"
   ]
  },
  {
   "cell_type": "code",
   "execution_count": 47,
   "id": "41e8b92d-458b-4a6c-a262-f1dc90b57623",
   "metadata": {},
   "outputs": [
    {
     "data": {
      "text/plain": [
       "Year         int64\n",
       "Month        int64\n",
       "Dom_Pax     object\n",
       "Int_Pax     object\n",
       "Pax         object\n",
       "Dom_Flt     object\n",
       "Int_Flt     object\n",
       "Flt         object\n",
       "Dom_RPM     object\n",
       "Int_RPM     object\n",
       "RPM          int64\n",
       "Dom_ASM     object\n",
       "Int_ASM     object\n",
       "ASM         object\n",
       "Dom_LF     float64\n",
       "Int_LF     float64\n",
       "LF         float64\n",
       "dtype: object"
      ]
     },
     "execution_count": 47,
     "metadata": {},
     "output_type": "execute_result"
    }
   ],
   "source": [
    "df.dtypes"
   ]
  },
  {
   "cell_type": "code",
   "execution_count": 50,
   "id": "ef1eb8bf-a538-4fa8-8185-5aa3b8d54215",
   "metadata": {},
   "outputs": [],
   "source": [
    "df.replace(np.nan,'0',inplace = True)"
   ]
  },
  {
   "cell_type": "code",
   "execution_count": 51,
   "id": "a8870e2a-2961-4a6d-924b-8dac42d88723",
   "metadata": {},
   "outputs": [
    {
     "data": {
      "text/plain": [
       "Year         int64\n",
       "Month        int64\n",
       "Dom_Pax     object\n",
       "Int_Pax     object\n",
       "Pax         object\n",
       "Dom_Flt     object\n",
       "Int_Flt     object\n",
       "Flt         object\n",
       "Dom_RPM     object\n",
       "Int_RPM     object\n",
       "RPM          int64\n",
       "Dom_ASM     object\n",
       "Int_ASM     object\n",
       "ASM         object\n",
       "Dom_LF     float64\n",
       "Int_LF     float64\n",
       "LF         float64\n",
       "dtype: object"
      ]
     },
     "execution_count": 51,
     "metadata": {},
     "output_type": "execute_result"
    }
   ],
   "source": [
    "df.dtypes"
   ]
  },
  {
   "cell_type": "code",
   "execution_count": 52,
   "id": "37ab1b7a-b183-4f15-bfc4-5551a25234dc",
   "metadata": {},
   "outputs": [],
   "source": [
    "import matplotlib.pyplot as plt"
   ]
  },
  {
   "cell_type": "code",
   "execution_count": 56,
   "id": "d79e9541-d3ec-496c-91e3-4506e0967278",
   "metadata": {},
   "outputs": [
    {
     "data": {
      "text/plain": [
       "<Axes: xlabel='RPM', ylabel='Count'>"
      ]
     },
     "execution_count": 56,
     "metadata": {},
     "output_type": "execute_result"
    },
    {
     "data": {
      "image/png": "[encoded data removed]",
      "text/plain": [
       "<Figure size 640x480 with 1 Axes>"
      ]
     },
     "metadata": {},
     "output_type": "display_data"
    }
   ],
   "source": [
    "sns.histplot(x = 'RPM',data = df)"
   ]
  },
  {
   "cell_type": "code",
   "execution_count": 57,
   "id": "9156397f-591f-4c6d-bb93-074a42c6c4c0",
   "metadata": {},
   "outputs": [
    {
     "name": "stdout",
     "output_type": "stream",
     "text": [
      "Requirement already satisfied: matplotlib in c:\\users\\hp\\appdata\\local\\programs\\python\\python312\\lib\\site-packages (3.8.2)\n",
      "Requirement already satisfied: contourpy>=1.0.1 in c:\\users\\hp\\appdata\\local\\programs\\python\\python312\\lib\\site-packages (from matplotlib) (1.2.0)\n",
      "Requirement already satisfied: cycler>=0.10 in c:\\users\\hp\\appdata\\local\\programs\\python\\python312\\lib\\site-packages (from matplotlib) (0.12.1)\n",
      "Requirement already satisfied: fonttools>=4.22.0 in c:\\users\\hp\\appdata\\local\\programs\\python\\python312\\lib\\site-packages (from matplotlib) (4.47.2)\n",
      "Requirement already satisfied: kiwisolver>=1.3.1 in c:\\users\\hp\\appdata\\local\\programs\\python\\python312\\lib\\site-packages (from matplotlib) (1.4.5)\n",
      "Requirement already satisfied: numpy<2,>=1.21 in c:\\users\\hp\\appdata\\local\\programs\\python\\python312\\lib\\site-packages (from matplotlib) (1.26.3)\n",
      "Requirement already satisfied: packaging>=20.0 in c:\\users\\hp\\appdata\\local\\programs\\python\\python312\\lib\\site-packages (from matplotlib) (23.2)\n",
      "Requirement already satisfied: pillow>=8 in c:\\users\\hp\\appdata\\local\\programs\\python\\python312\\lib\\site-packages (from matplotlib) (10.2.0)\n",
      "Requirement already satisfied: pyparsing>=2.3.1 in c:\\users\\hp\\appdata\\local\\programs\\python\\python312\\lib\\site-packages (from matplotlib) (3.1.1)\n",
      "Requirement already satisfied: python-dateutil>=2.7 in c:\\users\\hp\\appdata\\local\\programs\\python\\python312\\lib\\site-packages (from matplotlib) (2.8.2)\n",
      "Requirement already satisfied: six>=1.5 in c:\\users\\hp\\appdata\\local\\programs\\python\\python312\\lib\\site-packages (from python-dateutil>=2.7->matplotlib) (1.16.0)\n",
      "Note: you may need to restart the kernel to use updated packages.\n"
     ]
    },
    {
     "name": "stderr",
     "output_type": "stream",
     "text": [
      "\n",
      "[notice] A new release of pip is available: 23.2.1 -> 24.0\n",
      "[notice] To update, run: python.exe -m pip install --upgrade pip\n"
     ]
    }
   ],
   "source": [
    "pip install matplotlib"
   ]
  },
  {
   "cell_type": "code",
   "execution_count": 58,
   "id": "af8300db-41f2-4d60-8a51-24b33c4082c8",
   "metadata": {},
   "outputs": [
    {
     "name": "stdout",
     "output_type": "stream",
     "text": [
      "Requirement already satisfied: seaborn in c:\\users\\hp\\appdata\\local\\programs\\python\\python312\\lib\\site-packages (0.13.2)\n",
      "Requirement already satisfied: numpy!=1.24.0,>=1.20 in c:\\users\\hp\\appdata\\local\\programs\\python\\python312\\lib\\site-packages (from seaborn) (1.26.3)\n",
      "Requirement already satisfied: pandas>=1.2 in c:\\users\\hp\\appdata\\local\\programs\\python\\python312\\lib\\site-packages (from seaborn) (2.2.0)\n",
      "Requirement already satisfied: matplotlib!=3.6.1,>=3.4 in c:\\users\\hp\\appdata\\local\\programs\\python\\python312\\lib\\site-packages (from seaborn) (3.8.2)\n",
      "Requirement already satisfied: contourpy>=1.0.1 in c:\\users\\hp\\appdata\\local\\programs\\python\\python312\\lib\\site-packages (from matplotlib!=3.6.1,>=3.4->seaborn) (1.2.0)\n",
      "Requirement already satisfied: cycler>=0.10 in c:\\users\\hp\\appdata\\local\\programs\\python\\python312\\lib\\site-packages (from matplotlib!=3.6.1,>=3.4->seaborn) (0.12.1)\n",
      "Requirement already satisfied: fonttools>=4.22.0 in c:\\users\\hp\\appdata\\local\\programs\\python\\python312\\lib\\site-packages (from matplotlib!=3.6.1,>=3.4->seaborn) (4.47.2)\n",
      "Requirement already satisfied: kiwisolver>=1.3.1 in c:\\users\\hp\\appdata\\local\\programs\\python\\python312\\lib\\site-packages (from matplotlib!=3.6.1,>=3.4->seaborn) (1.4.5)\n",
      "Requirement already satisfied: packaging>=20.0 in c:\\users\\hp\\appdata\\local\\programs\\python\\python312\\lib\\site-packages (from matplotlib!=3.6.1,>=3.4->seaborn) (23.2)\n",
      "Requirement already satisfied: pillow>=8 in c:\\users\\hp\\appdata\\local\\programs\\python\\python312\\lib\\site-packages (from matplotlib!=3.6.1,>=3.4->seaborn) (10.2.0)\n",
      "Requirement already satisfied: pyparsing>=2.3.1 in c:\\users\\hp\\appdata\\local\\programs\\python\\python312\\lib\\site-packages (from matplotlib!=3.6.1,>=3.4->seaborn) (3.1.1)\n",
      "Requirement already satisfied: python-dateutil>=2.7 in c:\\users\\hp\\appdata\\local\\programs\\python\\python312\\lib\\site-packages (from matplotlib!=3.6.1,>=3.4->seaborn) (2.8.2)\n",
      "Requirement already satisfied: pytz>=2020.1 in c:\\users\\hp\\appdata\\local\\programs\\python\\python312\\lib\\site-packages (from pandas>=1.2->seaborn) (2024.1)\n",
      "Requirement already satisfied: tzdata>=2022.7 in c:\\users\\hp\\appdata\\local\\programs\\python\\python312\\lib\\site-packages (from pandas>=1.2->seaborn) (2023.4)\n",
      "Requirement already satisfied: six>=1.5 in c:\\users\\hp\\appdata\\local\\programs\\python\\python312\\lib\\site-packages (from python-dateutil>=2.7->matplotlib!=3.6.1,>=3.4->seaborn) (1.16.0)\n",
      "Note: you may need to restart the kernel to use updated packages.\n"
     ]
    },
    {
     "name": "stderr",
     "output_type": "stream",
     "text": [
      "\n",
      "[notice] A new release of pip is available: 23.2.1 -> 24.0\n",
      "[notice] To update, run: python.exe -m pip install --upgrade pip\n"
     ]
    }
   ],
   "source": [
    "pip install seaborn"
   ]
  },
  {
   "cell_type": "code",
   "execution_count": 59,
   "id": "c5bde2bf-10b1-4c9a-a4ae-2ba973370f1b",
   "metadata": {},
   "outputs": [
    {
     "name": "stdout",
     "output_type": "stream",
     "text": [
      "Collecting plotly\n",
      "  Obtaining dependency information for plotly from https://files.pythonhosted.org/packages/a8/07/72953cf70e3bd3a24cbc3e743e6f8539abe6e3e6d83c3c0c83426eaffd39/plotly-5.18.0-py3-none-any.whl.metadata\n",
      "  Downloading plotly-5.18.0-py3-none-any.whl.metadata (7.0 kB)\n",
      "Collecting tenacity>=6.2.0 (from plotly)\n",
      "  Obtaining dependency information for tenacity>=6.2.0 from https://files.pythonhosted.org/packages/f4/f1/990741d5bb2487d529d20a433210ffa136a367751e454214013b441c4575/tenacity-8.2.3-py3-none-any.whl.metadata\n",
      "  Downloading tenacity-8.2.3-py3-none-any.whl.metadata (1.0 kB)\n",
      "Requirement already satisfied: packaging in c:\\users\\hp\\appdata\\local\\programs\\python\\python312\\lib\\site-packages (from plotly) (23.2)\n",
      "Downloading plotly-5.18.0-py3-none-any.whl (15.6 MB)\n",
      "   ---------------------------------------- 0.0/15.6 MB ? eta -:--:--\n",
      "   ---------------------------------------- 0.0/15.6 MB ? eta -:--:--\n",
      "   ---------------------------------------- 0.0/15.6 MB 259.2 kB/s eta 0:01:01\n",
      "   ---------------------------------------- 0.0/15.6 MB 326.8 kB/s eta 0:00:48\n",
      "   ---------------------------------------- 0.0/15.6 MB 326.8 kB/s eta 0:00:48\n",
      "   ---------------------------------------- 0.1/15.6 MB 607.9 kB/s eta 0:00:26\n",
      "    --------------------------------------- 0.3/15.6 MB 923.9 kB/s eta 0:00:17\n",
      "   - -------------------------------------- 0.5/15.6 MB 1.4 MB/s eta 0:00:11\n",
      "   - -------------------------------------- 0.7/15.6 MB 1.9 MB/s eta 0:00:08\n",
      "   -- ------------------------------------- 1.0/15.6 MB 2.4 MB/s eta 0:00:07\n",
      "   --- ------------------------------------ 1.2/15.6 MB 2.6 MB/s eta 0:00:06\n",
      "   --- ------------------------------------ 1.5/15.6 MB 3.0 MB/s eta 0:00:05\n",
      "   ---- ----------------------------------- 1.8/15.6 MB 3.3 MB/s eta 0:00:05\n",
      "   ----- ---------------------------------- 2.0/15.6 MB 3.4 MB/s eta 0:00:05\n",
      "   ----- ---------------------------------- 2.0/15.6 MB 3.4 MB/s eta 0:00:05\n",
      "   ----- ---------------------------------- 2.0/15.6 MB 3.4 MB/s eta 0:00:05\n",
      "   ----- ---------------------------------- 2.1/15.6 MB 2.8 MB/s eta 0:00:05\n",
      "   ----- ---------------------------------- 2.3/15.6 MB 3.0 MB/s eta 0:00:05\n",
      "   ------ --------------------------------- 2.4/15.6 MB 3.0 MB/s eta 0:00:05\n",
      "   ------ --------------------------------- 2.6/15.6 MB 2.9 MB/s eta 0:00:05\n",
      "   ------- -------------------------------- 3.0/15.6 MB 3.3 MB/s eta 0:00:04\n",
      "   -------- ------------------------------- 3.3/15.6 MB 3.4 MB/s eta 0:00:04\n",
      "   --------- ------------------------------ 3.5/15.6 MB 3.5 MB/s eta 0:00:04\n",
      "   --------- ------------------------------ 3.8/15.6 MB 3.7 MB/s eta 0:00:04\n",
      "   ---------- ----------------------------- 4.1/15.6 MB 3.7 MB/s eta 0:00:04\n",
      "   ----------- ---------------------------- 4.3/15.6 MB 3.8 MB/s eta 0:00:03\n",
      "   ----------- ---------------------------- 4.5/15.6 MB 3.8 MB/s eta 0:00:03\n",
      "   ------------ --------------------------- 4.7/15.6 MB 3.8 MB/s eta 0:00:03\n",
      "   ------------- -------------------------- 5.1/15.6 MB 4.0 MB/s eta 0:00:03\n",
      "   ------------- -------------------------- 5.4/15.6 MB 4.0 MB/s eta 0:00:03\n",
      "   -------------- ------------------------- 5.6/15.6 MB 4.1 MB/s eta 0:00:03\n",
      "   --------------- ------------------------ 5.9/15.6 MB 4.2 MB/s eta 0:00:03\n",
      "   --------------- ------------------------ 6.3/15.6 MB 4.3 MB/s eta 0:00:03\n",
      "   ---------------- ----------------------- 6.5/15.6 MB 4.3 MB/s eta 0:00:03\n",
      "   ----------------- ---------------------- 6.7/15.6 MB 4.3 MB/s eta 0:00:03\n",
      "   ----------------- ---------------------- 7.0/15.6 MB 4.3 MB/s eta 0:00:03\n",
      "   ------------------ --------------------- 7.2/15.6 MB 4.3 MB/s eta 0:00:02\n",
      "   ------------------ --------------------- 7.4/15.6 MB 4.4 MB/s eta 0:00:02\n",
      "   ------------------- -------------------- 7.7/15.6 MB 4.4 MB/s eta 0:00:02\n",
      "   -------------------- ------------------- 8.0/15.6 MB 4.5 MB/s eta 0:00:02\n",
      "   --------------------- ------------------ 8.2/15.6 MB 4.5 MB/s eta 0:00:02\n",
      "   --------------------- ------------------ 8.5/15.6 MB 4.5 MB/s eta 0:00:02\n",
      "   ---------------------- ----------------- 8.8/15.6 MB 4.5 MB/s eta 0:00:02\n",
      "   ---------------------- ----------------- 9.0/15.6 MB 4.6 MB/s eta 0:00:02\n",
      "   ----------------------- ---------------- 9.3/15.6 MB 4.6 MB/s eta 0:00:02\n",
      "   ------------------------ --------------- 9.5/15.6 MB 4.6 MB/s eta 0:00:02\n",
      "   ------------------------- -------------- 9.8/15.6 MB 4.6 MB/s eta 0:00:02\n",
      "   ------------------------- -------------- 10.1/15.6 MB 4.7 MB/s eta 0:00:02\n",
      "   -------------------------- ------------- 10.4/15.6 MB 5.1 MB/s eta 0:00:02\n",
      "   -------------------------- ------------- 10.5/15.6 MB 5.2 MB/s eta 0:00:01\n",
      "   --------------------------- ------------ 10.8/15.6 MB 5.2 MB/s eta 0:00:01\n",
      "   ---------------------------- ----------- 11.1/15.6 MB 5.2 MB/s eta 0:00:01\n",
      "   ----------------------------- ---------- 11.4/15.6 MB 5.2 MB/s eta 0:00:01\n",
      "   ----------------------------- ---------- 11.6/15.6 MB 5.2 MB/s eta 0:00:01\n",
      "   ------------------------------ --------- 11.8/15.6 MB 5.2 MB/s eta 0:00:01\n",
      "   ------------------------------ --------- 12.0/15.6 MB 5.1 MB/s eta 0:00:01\n",
      "   ------------------------------- -------- 12.2/15.6 MB 5.1 MB/s eta 0:00:01\n",
      "   ------------------------------- -------- 12.4/15.6 MB 5.5 MB/s eta 0:00:01\n",
      "   -------------------------------- ------- 12.6/15.6 MB 5.5 MB/s eta 0:00:01\n",
      "   -------------------------------- ------- 12.9/15.6 MB 5.6 MB/s eta 0:00:01\n",
      "   --------------------------------- ------ 13.1/15.6 MB 5.5 MB/s eta 0:00:01\n",
      "   ---------------------------------- ----- 13.4/15.6 MB 5.5 MB/s eta 0:00:01\n",
      "   ---------------------------------- ----- 13.5/15.6 MB 5.4 MB/s eta 0:00:01\n",
      "   ----------------------------------- ---- 13.8/15.6 MB 5.4 MB/s eta 0:00:01\n",
      "   ------------------------------------ --- 14.1/15.6 MB 5.4 MB/s eta 0:00:01\n",
      "   ------------------------------------ --- 14.3/15.6 MB 5.4 MB/s eta 0:00:01\n",
      "   ------------------------------------- -- 14.5/15.6 MB 5.3 MB/s eta 0:00:01\n",
      "   -------------------------------------- - 15.0/15.6 MB 5.5 MB/s eta 0:00:01\n",
      "   -------------------------------------- - 15.2/15.6 MB 5.4 MB/s eta 0:00:01\n",
      "   ---------------------------------------  15.4/15.6 MB 5.4 MB/s eta 0:00:01\n",
      "   ---------------------------------------  15.6/15.6 MB 5.4 MB/s eta 0:00:01\n",
      "   ---------------------------------------  15.6/15.6 MB 5.4 MB/s eta 0:00:01\n",
      "   ---------------------------------------- 15.6/15.6 MB 5.2 MB/s eta 0:00:00\n",
      "Downloading tenacity-8.2.3-py3-none-any.whl (24 kB)\n",
      "Installing collected packages: tenacity, plotly\n",
      "Successfully installed plotly-5.18.0 tenacity-8.2.3\n",
      "Note: you may need to restart the kernel to use updated packages.\n"
     ]
    },
    {
     "name": "stderr",
     "output_type": "stream",
     "text": [
      "\n",
      "[notice] A new release of pip is available: 23.2.1 -> 24.0\n",
      "[notice] To update, run: python.exe -m pip install --upgrade pip\n"
     ]
    }
   ],
   "source": [
    "pip install plotly"
   ]
  },
  {
   "cell_type": "code",
   "execution_count": null,
   "id": "5fa0d592-9478-47b1-8215-0ad7cb2dde99",
   "metadata": {},
   "outputs": [],
   "source": []
  }
 ],
 "metadata": {
  "kernelspec": {
   "display_name": "Python 3 (ipykernel)",
   "language": "python",
   "name": "python3"
  },
  "language_info": {
   "codemirror_mode": {
    "name": "ipython",
    "version": 3
   },
   "file_extension": ".py",
   "mimetype": "text/x-python",
   "name": "python",
   "nbconvert_exporter": "python",
   "pygments_lexer": "ipython3",
   "version": "3.12.1"
  }
 },
 "nbformat": 4,
 "nbformat_minor": 5
}
